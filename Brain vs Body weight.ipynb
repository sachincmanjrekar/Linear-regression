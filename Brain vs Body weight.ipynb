{
 "cells": [
  {
   "cell_type": "code",
   "execution_count": 38,
   "id": "f2d13212",
   "metadata": {},
   "outputs": [],
   "source": [
    "import pandas as pd\n",
    "import numpy as np\n",
    "import matplotlib.pyplot as plt"
   ]
  },
  {
   "cell_type": "code",
   "execution_count": 39,
   "id": "4bfd62ef",
   "metadata": {},
   "outputs": [
    {
     "data": {
      "text/html": [
       "<div>\n",
       "<style scoped>\n",
       "    .dataframe tbody tr th:only-of-type {\n",
       "        vertical-align: middle;\n",
       "    }\n",
       "\n",
       "    .dataframe tbody tr th {\n",
       "        vertical-align: top;\n",
       "    }\n",
       "\n",
       "    .dataframe thead th {\n",
       "        text-align: right;\n",
       "    }\n",
       "</style>\n",
       "<table border=\"1\" class=\"dataframe\">\n",
       "  <thead>\n",
       "    <tr style=\"text-align: right;\">\n",
       "      <th></th>\n",
       "      <th>Brain</th>\n",
       "      <th>Body</th>\n",
       "    </tr>\n",
       "  </thead>\n",
       "  <tbody>\n",
       "    <tr>\n",
       "      <th>0</th>\n",
       "      <td>3.385</td>\n",
       "      <td>44.5</td>\n",
       "    </tr>\n",
       "    <tr>\n",
       "      <th>1</th>\n",
       "      <td>0.480</td>\n",
       "      <td>15.5</td>\n",
       "    </tr>\n",
       "    <tr>\n",
       "      <th>2</th>\n",
       "      <td>1.350</td>\n",
       "      <td>8.1</td>\n",
       "    </tr>\n",
       "    <tr>\n",
       "      <th>3</th>\n",
       "      <td>465.000</td>\n",
       "      <td>423.0</td>\n",
       "    </tr>\n",
       "    <tr>\n",
       "      <th>4</th>\n",
       "      <td>36.330</td>\n",
       "      <td>119.5</td>\n",
       "    </tr>\n",
       "  </tbody>\n",
       "</table>\n",
       "</div>"
      ],
      "text/plain": [
       "     Brain   Body\n",
       "0    3.385   44.5\n",
       "1    0.480   15.5\n",
       "2    1.350    8.1\n",
       "3  465.000  423.0\n",
       "4   36.330  119.5"
      ]
     },
     "execution_count": 39,
     "metadata": {},
     "output_type": "execute_result"
    }
   ],
   "source": [
    "df = pd.read_fwf(\"brain_body.txt\")\n",
    "df.head()"
   ]
  },
  {
   "cell_type": "code",
   "execution_count": 40,
   "id": "fd720b82",
   "metadata": {},
   "outputs": [
    {
     "data": {
      "text/plain": [
       "(62, 2)"
      ]
     },
     "execution_count": 40,
     "metadata": {},
     "output_type": "execute_result"
    }
   ],
   "source": [
    "df.shape"
   ]
  },
  {
   "cell_type": "code",
   "execution_count": 41,
   "id": "25c4387e",
   "metadata": {},
   "outputs": [
    {
     "name": "stdout",
     "output_type": "stream",
     "text": [
      "<class 'pandas.core.frame.DataFrame'>\n",
      "RangeIndex: 62 entries, 0 to 61\n",
      "Data columns (total 2 columns):\n",
      " #   Column  Non-Null Count  Dtype  \n",
      "---  ------  --------------  -----  \n",
      " 0   Brain   62 non-null     float64\n",
      " 1   Body    62 non-null     float64\n",
      "dtypes: float64(2)\n",
      "memory usage: 1.1 KB\n"
     ]
    }
   ],
   "source": [
    "df.info()"
   ]
  },
  {
   "cell_type": "code",
   "execution_count": 42,
   "id": "a94dc2c0",
   "metadata": {},
   "outputs": [
    {
     "data": {
      "text/html": [
       "<div>\n",
       "<style scoped>\n",
       "    .dataframe tbody tr th:only-of-type {\n",
       "        vertical-align: middle;\n",
       "    }\n",
       "\n",
       "    .dataframe tbody tr th {\n",
       "        vertical-align: top;\n",
       "    }\n",
       "\n",
       "    .dataframe thead th {\n",
       "        text-align: right;\n",
       "    }\n",
       "</style>\n",
       "<table border=\"1\" class=\"dataframe\">\n",
       "  <thead>\n",
       "    <tr style=\"text-align: right;\">\n",
       "      <th></th>\n",
       "      <th>Brain</th>\n",
       "      <th>Body</th>\n",
       "    </tr>\n",
       "  </thead>\n",
       "  <tbody>\n",
       "    <tr>\n",
       "      <th>count</th>\n",
       "      <td>62.000000</td>\n",
       "      <td>62.000000</td>\n",
       "    </tr>\n",
       "    <tr>\n",
       "      <th>mean</th>\n",
       "      <td>198.789984</td>\n",
       "      <td>283.134194</td>\n",
       "    </tr>\n",
       "    <tr>\n",
       "      <th>std</th>\n",
       "      <td>899.158011</td>\n",
       "      <td>930.278942</td>\n",
       "    </tr>\n",
       "    <tr>\n",
       "      <th>min</th>\n",
       "      <td>0.005000</td>\n",
       "      <td>0.140000</td>\n",
       "    </tr>\n",
       "    <tr>\n",
       "      <th>25%</th>\n",
       "      <td>0.600000</td>\n",
       "      <td>4.250000</td>\n",
       "    </tr>\n",
       "    <tr>\n",
       "      <th>50%</th>\n",
       "      <td>3.342500</td>\n",
       "      <td>17.250000</td>\n",
       "    </tr>\n",
       "    <tr>\n",
       "      <th>75%</th>\n",
       "      <td>48.202500</td>\n",
       "      <td>166.000000</td>\n",
       "    </tr>\n",
       "    <tr>\n",
       "      <th>max</th>\n",
       "      <td>6654.000000</td>\n",
       "      <td>5712.000000</td>\n",
       "    </tr>\n",
       "  </tbody>\n",
       "</table>\n",
       "</div>"
      ],
      "text/plain": [
       "             Brain         Body\n",
       "count    62.000000    62.000000\n",
       "mean    198.789984   283.134194\n",
       "std     899.158011   930.278942\n",
       "min       0.005000     0.140000\n",
       "25%       0.600000     4.250000\n",
       "50%       3.342500    17.250000\n",
       "75%      48.202500   166.000000\n",
       "max    6654.000000  5712.000000"
      ]
     },
     "execution_count": 42,
     "metadata": {},
     "output_type": "execute_result"
    }
   ],
   "source": [
    "df.describe()"
   ]
  },
  {
   "cell_type": "markdown",
   "id": "1b5d67bd",
   "metadata": {},
   "source": [
    "### Outlier detection using IQR"
   ]
  },
  {
   "cell_type": "code",
   "execution_count": 43,
   "id": "98ba3837",
   "metadata": {},
   "outputs": [
    {
     "name": "stdout",
     "output_type": "stream",
     "text": [
      "-70.80375000000001 119.60625\n"
     ]
    }
   ],
   "source": [
    "iqr=df.Brain.quantile(0.75)-df.Brain.quantile(0.25)\n",
    "lower_threshold_Brain=df.Brain.quantile(0.25)-(1.5*iqr)\n",
    "upper_threshold_Brain=df.Brain.quantile(0.75)+(1.5*iqr)\n",
    "print(lower_threshold_Brain,upper_threshold_Brain)"
   ]
  },
  {
   "cell_type": "code",
   "execution_count": 44,
   "id": "ea6fb30d",
   "metadata": {},
   "outputs": [
    {
     "name": "stdout",
     "output_type": "stream",
     "text": [
      "-238.375 408.625\n"
     ]
    }
   ],
   "source": [
    "iqr=df.Body.quantile(0.75)-df.Body.quantile(0.25)\n",
    "lower_threshold_Body=df.Body.quantile(0.25)-(1.5*iqr)\n",
    "upper_threshold_Body=df.Body.quantile(0.75)+(1.5*iqr)\n",
    "print(lower_threshold_Body,upper_threshold_Body)"
   ]
  },
  {
   "cell_type": "markdown",
   "id": "906bf724",
   "metadata": {},
   "source": [
    "check how many points that vilolate atleast one of the threshold value"
   ]
  },
  {
   "cell_type": "code",
   "execution_count": 45,
   "id": "c840cc2b",
   "metadata": {},
   "outputs": [
    {
     "data": {
      "text/html": [
       "<div>\n",
       "<style scoped>\n",
       "    .dataframe tbody tr th:only-of-type {\n",
       "        vertical-align: middle;\n",
       "    }\n",
       "\n",
       "    .dataframe tbody tr th {\n",
       "        vertical-align: top;\n",
       "    }\n",
       "\n",
       "    .dataframe thead th {\n",
       "        text-align: right;\n",
       "    }\n",
       "</style>\n",
       "<table border=\"1\" class=\"dataframe\">\n",
       "  <thead>\n",
       "    <tr style=\"text-align: right;\">\n",
       "      <th></th>\n",
       "      <th>Brain</th>\n",
       "      <th>Body</th>\n",
       "    </tr>\n",
       "  </thead>\n",
       "  <tbody>\n",
       "    <tr>\n",
       "      <th>3</th>\n",
       "      <td>465.00</td>\n",
       "      <td>423.0</td>\n",
       "    </tr>\n",
       "    <tr>\n",
       "      <th>18</th>\n",
       "      <td>2547.00</td>\n",
       "      <td>4603.0</td>\n",
       "    </tr>\n",
       "    <tr>\n",
       "      <th>20</th>\n",
       "      <td>187.10</td>\n",
       "      <td>419.0</td>\n",
       "    </tr>\n",
       "    <tr>\n",
       "      <th>21</th>\n",
       "      <td>521.00</td>\n",
       "      <td>655.0</td>\n",
       "    </tr>\n",
       "    <tr>\n",
       "      <th>27</th>\n",
       "      <td>529.00</td>\n",
       "      <td>680.0</td>\n",
       "    </tr>\n",
       "    <tr>\n",
       "      <th>28</th>\n",
       "      <td>207.00</td>\n",
       "      <td>406.0</td>\n",
       "    </tr>\n",
       "    <tr>\n",
       "      <th>31</th>\n",
       "      <td>62.00</td>\n",
       "      <td>1320.0</td>\n",
       "    </tr>\n",
       "    <tr>\n",
       "      <th>32</th>\n",
       "      <td>6654.00</td>\n",
       "      <td>5712.0</td>\n",
       "    </tr>\n",
       "    <tr>\n",
       "      <th>41</th>\n",
       "      <td>250.00</td>\n",
       "      <td>490.0</td>\n",
       "    </tr>\n",
       "    <tr>\n",
       "      <th>45</th>\n",
       "      <td>52.16</td>\n",
       "      <td>440.0</td>\n",
       "    </tr>\n",
       "    <tr>\n",
       "      <th>55</th>\n",
       "      <td>192.00</td>\n",
       "      <td>180.0</td>\n",
       "    </tr>\n",
       "    <tr>\n",
       "      <th>57</th>\n",
       "      <td>160.00</td>\n",
       "      <td>169.0</td>\n",
       "    </tr>\n",
       "  </tbody>\n",
       "</table>\n",
       "</div>"
      ],
      "text/plain": [
       "      Brain    Body\n",
       "3    465.00   423.0\n",
       "18  2547.00  4603.0\n",
       "20   187.10   419.0\n",
       "21   521.00   655.0\n",
       "27   529.00   680.0\n",
       "28   207.00   406.0\n",
       "31    62.00  1320.0\n",
       "32  6654.00  5712.0\n",
       "41   250.00   490.0\n",
       "45    52.16   440.0\n",
       "55   192.00   180.0\n",
       "57   160.00   169.0"
      ]
     },
     "execution_count": 45,
     "metadata": {},
     "output_type": "execute_result"
    }
   ],
   "source": [
    "df.loc[(df.Brain>upper_threshold_Brain)|(df.Brain<lower_threshold_Brain)|(df.Body>upper_threshold_Body)|(df.Body<lower_threshold_Body)]"
   ]
  },
  {
   "cell_type": "markdown",
   "id": "d329a23a",
   "metadata": {},
   "source": [
    "clip all these points"
   ]
  },
  {
   "cell_type": "code",
   "execution_count": 46,
   "id": "c6ddb41d",
   "metadata": {},
   "outputs": [],
   "source": [
    "df.Brain=df.Brain.clip(lower_threshold_Brain, upper_threshold_Brain)\n",
    "df.Body=df.Body.clip(lower_threshold_Body, upper_threshold_Body)"
   ]
  },
  {
   "cell_type": "code",
   "execution_count": 47,
   "id": "fb4c950c",
   "metadata": {},
   "outputs": [
    {
     "data": {
      "text/html": [
       "<div>\n",
       "<style scoped>\n",
       "    .dataframe tbody tr th:only-of-type {\n",
       "        vertical-align: middle;\n",
       "    }\n",
       "\n",
       "    .dataframe tbody tr th {\n",
       "        vertical-align: top;\n",
       "    }\n",
       "\n",
       "    .dataframe thead th {\n",
       "        text-align: right;\n",
       "    }\n",
       "</style>\n",
       "<table border=\"1\" class=\"dataframe\">\n",
       "  <thead>\n",
       "    <tr style=\"text-align: right;\">\n",
       "      <th></th>\n",
       "      <th>Brain</th>\n",
       "      <th>Body</th>\n",
       "    </tr>\n",
       "  </thead>\n",
       "  <tbody>\n",
       "    <tr>\n",
       "      <th>count</th>\n",
       "      <td>62.000000</td>\n",
       "      <td>62.000000</td>\n",
       "    </tr>\n",
       "    <tr>\n",
       "      <th>mean</th>\n",
       "      <td>29.176476</td>\n",
       "      <td>104.676532</td>\n",
       "    </tr>\n",
       "    <tr>\n",
       "      <th>std</th>\n",
       "      <td>45.213842</td>\n",
       "      <td>148.635231</td>\n",
       "    </tr>\n",
       "    <tr>\n",
       "      <th>min</th>\n",
       "      <td>0.005000</td>\n",
       "      <td>0.140000</td>\n",
       "    </tr>\n",
       "    <tr>\n",
       "      <th>25%</th>\n",
       "      <td>0.600000</td>\n",
       "      <td>4.250000</td>\n",
       "    </tr>\n",
       "    <tr>\n",
       "      <th>50%</th>\n",
       "      <td>3.342500</td>\n",
       "      <td>17.250000</td>\n",
       "    </tr>\n",
       "    <tr>\n",
       "      <th>75%</th>\n",
       "      <td>48.202500</td>\n",
       "      <td>166.000000</td>\n",
       "    </tr>\n",
       "    <tr>\n",
       "      <th>max</th>\n",
       "      <td>119.606250</td>\n",
       "      <td>408.625000</td>\n",
       "    </tr>\n",
       "  </tbody>\n",
       "</table>\n",
       "</div>"
      ],
      "text/plain": [
       "            Brain        Body\n",
       "count   62.000000   62.000000\n",
       "mean    29.176476  104.676532\n",
       "std     45.213842  148.635231\n",
       "min      0.005000    0.140000\n",
       "25%      0.600000    4.250000\n",
       "50%      3.342500   17.250000\n",
       "75%     48.202500  166.000000\n",
       "max    119.606250  408.625000"
      ]
     },
     "execution_count": 47,
     "metadata": {},
     "output_type": "execute_result"
    }
   ],
   "source": [
    "df.describe()"
   ]
  },
  {
   "cell_type": "markdown",
   "id": "479813e9",
   "metadata": {},
   "source": [
    "all points are now fall within lower and upper threshold range"
   ]
  },
  {
   "cell_type": "markdown",
   "id": "349abc55",
   "metadata": {},
   "source": [
    "### checking for null values"
   ]
  },
  {
   "cell_type": "code",
   "execution_count": 48,
   "id": "e3ab88ac",
   "metadata": {},
   "outputs": [
    {
     "data": {
      "text/plain": [
       "Brain    0\n",
       "Body     0\n",
       "dtype: int64"
      ]
     },
     "execution_count": 48,
     "metadata": {},
     "output_type": "execute_result"
    }
   ],
   "source": [
    "df.isnull().sum()"
   ]
  },
  {
   "cell_type": "markdown",
   "id": "bd561df8",
   "metadata": {},
   "source": [
    "conclusion: no null values"
   ]
  },
  {
   "cell_type": "markdown",
   "id": "55bfa67f",
   "metadata": {},
   "source": [
    "### drop duplicate values"
   ]
  },
  {
   "cell_type": "code",
   "execution_count": 49,
   "id": "a0c47ee1",
   "metadata": {},
   "outputs": [
    {
     "data": {
      "text/plain": [
       "(56, 2)"
      ]
     },
     "execution_count": 49,
     "metadata": {},
     "output_type": "execute_result"
    }
   ],
   "source": [
    "df = df.drop_duplicates()\n",
    "df.shape"
   ]
  },
  {
   "cell_type": "markdown",
   "id": "d994d5a8",
   "metadata": {},
   "source": [
    "Conclusion: 6 duplicates removed"
   ]
  },
  {
   "cell_type": "code",
   "execution_count": 50,
   "id": "71e7dc97",
   "metadata": {},
   "outputs": [
    {
     "data": {
      "text/plain": [
       "Brain    float64\n",
       "Body     float64\n",
       "dtype: object"
      ]
     },
     "execution_count": 50,
     "metadata": {},
     "output_type": "execute_result"
    }
   ],
   "source": [
    "df.dtypes"
   ]
  },
  {
   "cell_type": "markdown",
   "id": "c27658a2",
   "metadata": {},
   "source": [
    "# EDA"
   ]
  },
  {
   "cell_type": "markdown",
   "id": "ea8d02b1",
   "metadata": {},
   "source": [
    "### Histogram"
   ]
  },
  {
   "cell_type": "code",
   "execution_count": 51,
   "id": "51bc43fd",
   "metadata": {},
   "outputs": [
    {
     "data": {
      "image/png": "[encoded data removed]",
      "text/plain": [
       "<Figure size 640x480 with 1 Axes>"
      ]
     },
     "metadata": {},
     "output_type": "display_data"
    }
   ],
   "source": [
    "import matplotlib.pyplot as plt\n",
    "plt.hist(df[\"Brain\"],edgecolor='black', bins=np.arange(0,121,30))\n",
    "plt.xticks(np.arange(0,121,30))\n",
    "plt.xlabel(\"Brain weight\");\n",
    "plt.title(\"Brain weight distribution\");"
   ]
  },
  {
   "cell_type": "code",
   "execution_count": 52,
   "id": "b19317b6",
   "metadata": {},
   "outputs": [
    {
     "data": {
      "image/png": "[encoded data removed]",
      "text/plain": [
       "<Figure size 640x480 with 1 Axes>"
      ]
     },
     "metadata": {},
     "output_type": "display_data"
    }
   ],
   "source": [
    "import matplotlib.pyplot as plt\n",
    "plt.hist(df[\"Body\"],edgecolor='black', bins=np.arange(0,501,100))\n",
    "plt.xticks(np.arange(0,451,100))\n",
    "plt.xlabel(\"Body weight\");\n",
    "plt.title(\"Body weight distribution\");"
   ]
  },
  {
   "cell_type": "markdown",
   "id": "b416701d",
   "metadata": {},
   "source": [
    "### Scatter plot"
   ]
  },
  {
   "cell_type": "code",
   "execution_count": 53,
   "id": "269c4ce6",
   "metadata": {
    "scrolled": true
   },
   "outputs": [
    {
     "data": {
      "image/png": "[encoded data removed]",
      "text/plain": [
       "<Figure size 640x480 with 1 Axes>"
      ]
     },
     "metadata": {},
     "output_type": "display_data"
    }
   ],
   "source": [
    "df.plot(x='Brain', y='Body',kind=\"scatter\",style='o',xlabel=\"Brain weight\",ylabel=\"Body weight\",title=\"Brain vs Body\");"
   ]
  },
  {
   "cell_type": "markdown",
   "id": "a179f312",
   "metadata": {},
   "source": [
    "By the above plot , we can say that there is linear relationship between 'Brain' and 'Body'"
   ]
  },
  {
   "cell_type": "code",
   "execution_count": 54,
   "id": "6bc1211c",
   "metadata": {},
   "outputs": [
    {
     "data": {
      "text/html": [
       "<div>\n",
       "<style scoped>\n",
       "    .dataframe tbody tr th:only-of-type {\n",
       "        vertical-align: middle;\n",
       "    }\n",
       "\n",
       "    .dataframe tbody tr th {\n",
       "        vertical-align: top;\n",
       "    }\n",
       "\n",
       "    .dataframe thead th {\n",
       "        text-align: right;\n",
       "    }\n",
       "</style>\n",
       "<table border=\"1\" class=\"dataframe\">\n",
       "  <thead>\n",
       "    <tr style=\"text-align: right;\">\n",
       "      <th></th>\n",
       "      <th>Brain</th>\n",
       "      <th>Body</th>\n",
       "    </tr>\n",
       "  </thead>\n",
       "  <tbody>\n",
       "    <tr>\n",
       "      <th>Brain</th>\n",
       "      <td>1.000000</td>\n",
       "      <td>0.798773</td>\n",
       "    </tr>\n",
       "    <tr>\n",
       "      <th>Body</th>\n",
       "      <td>0.798773</td>\n",
       "      <td>1.000000</td>\n",
       "    </tr>\n",
       "  </tbody>\n",
       "</table>\n",
       "</div>"
      ],
      "text/plain": [
       "          Brain      Body\n",
       "Brain  1.000000  0.798773\n",
       "Body   0.798773  1.000000"
      ]
     },
     "execution_count": 54,
     "metadata": {},
     "output_type": "execute_result"
    }
   ],
   "source": [
    "df.corr()"
   ]
  },
  {
   "cell_type": "markdown",
   "id": "d10fea1a",
   "metadata": {},
   "source": [
    "correlation value '0.79' indicates there is strong positive correlation exist between 'Brain' and 'Body'"
   ]
  },
  {
   "cell_type": "markdown",
   "id": "faa6ad68",
   "metadata": {},
   "source": [
    "Here first we consider 'Brain' as feature and 'Body' as target"
   ]
  },
  {
   "cell_type": "markdown",
   "id": "e62accca",
   "metadata": {},
   "source": [
    "### Train and Test split"
   ]
  },
  {
   "cell_type": "code",
   "execution_count": 55,
   "id": "c2ecfa7b",
   "metadata": {},
   "outputs": [],
   "source": [
    "X = df[['Brain']].values\n",
    "y = df['Body'].values\n",
    "from sklearn.model_selection import train_test_split\n",
    "X_train, X_test, y_train, y_test = train_test_split(X, y, test_size=0.3)"
   ]
  },
  {
   "cell_type": "markdown",
   "id": "0f72134d",
   "metadata": {},
   "source": [
    "### Scaling"
   ]
  },
  {
   "cell_type": "code",
   "execution_count": 56,
   "id": "d05838b8",
   "metadata": {},
   "outputs": [],
   "source": [
    "from sklearn.preprocessing import StandardScaler\n",
    "scaler = StandardScaler()\n",
    "scaler.fit(X_train) \n",
    "X_train_scaled = scaler.transform(X_train) # fit (mean, sd) and then transform the training data\n",
    "X_test_scaled = scaler.transform(X_test) # "
   ]
  },
  {
   "cell_type": "code",
   "execution_count": 57,
   "id": "1fd46180",
   "metadata": {},
   "outputs": [
    {
     "data": {
      "text/plain": [
       "((39, 1), (17, 1))"
      ]
     },
     "execution_count": 57,
     "metadata": {},
     "output_type": "execute_result"
    }
   ],
   "source": [
    "X_train_scaled.shape,X_test_scaled.shape"
   ]
  },
  {
   "cell_type": "markdown",
   "id": "28435c10",
   "metadata": {},
   "source": [
    "### Modelling"
   ]
  },
  {
   "cell_type": "code",
   "execution_count": 58,
   "id": "2488ca6a",
   "metadata": {},
   "outputs": [
    {
     "data": {
      "text/plain": [
       "LinearRegression()"
      ]
     },
     "execution_count": 58,
     "metadata": {},
     "output_type": "execute_result"
    }
   ],
   "source": [
    "from sklearn.linear_model import LinearRegression\n",
    "regressor = LinearRegression()\n",
    "regressor.fit(X_train_scaled, y_train)"
   ]
  },
  {
   "cell_type": "code",
   "execution_count": 59,
   "id": "511fd085",
   "metadata": {},
   "outputs": [],
   "source": [
    "y_pred=regressor.predict(X_test_scaled)"
   ]
  },
  {
   "cell_type": "code",
   "execution_count": 60,
   "id": "e3bdd757",
   "metadata": {},
   "outputs": [
    {
     "data": {
      "text/html": [
       "<div>\n",
       "<style scoped>\n",
       "    .dataframe tbody tr th:only-of-type {\n",
       "        vertical-align: middle;\n",
       "    }\n",
       "\n",
       "    .dataframe tbody tr th {\n",
       "        vertical-align: top;\n",
       "    }\n",
       "\n",
       "    .dataframe thead th {\n",
       "        text-align: right;\n",
       "    }\n",
       "</style>\n",
       "<table border=\"1\" class=\"dataframe\">\n",
       "  <thead>\n",
       "    <tr style=\"text-align: right;\">\n",
       "      <th></th>\n",
       "      <th>Real</th>\n",
       "      <th>Predicted</th>\n",
       "    </tr>\n",
       "  </thead>\n",
       "  <tbody>\n",
       "    <tr>\n",
       "      <th>0</th>\n",
       "      <td>11.400</td>\n",
       "      <td>30.150780</td>\n",
       "    </tr>\n",
       "    <tr>\n",
       "      <th>1</th>\n",
       "      <td>6.600</td>\n",
       "      <td>28.749416</td>\n",
       "    </tr>\n",
       "    <tr>\n",
       "      <th>2</th>\n",
       "      <td>5.000</td>\n",
       "      <td>26.941204</td>\n",
       "    </tr>\n",
       "    <tr>\n",
       "      <th>3</th>\n",
       "      <td>408.625</td>\n",
       "      <td>296.830975</td>\n",
       "    </tr>\n",
       "    <tr>\n",
       "      <th>4</th>\n",
       "      <td>98.200</td>\n",
       "      <td>60.008881</td>\n",
       "    </tr>\n",
       "    <tr>\n",
       "      <th>5</th>\n",
       "      <td>17.500</td>\n",
       "      <td>29.676124</td>\n",
       "    </tr>\n",
       "    <tr>\n",
       "      <th>6</th>\n",
       "      <td>12.500</td>\n",
       "      <td>29.653522</td>\n",
       "    </tr>\n",
       "    <tr>\n",
       "      <th>7</th>\n",
       "      <td>175.000</td>\n",
       "      <td>151.933860</td>\n",
       "    </tr>\n",
       "    <tr>\n",
       "      <th>8</th>\n",
       "      <td>3.000</td>\n",
       "      <td>26.764903</td>\n",
       "    </tr>\n",
       "    <tr>\n",
       "      <th>9</th>\n",
       "      <td>2.600</td>\n",
       "      <td>28.523389</td>\n",
       "    </tr>\n",
       "    <tr>\n",
       "      <th>10</th>\n",
       "      <td>5.500</td>\n",
       "      <td>28.839826</td>\n",
       "    </tr>\n",
       "    <tr>\n",
       "      <th>11</th>\n",
       "      <td>325.000</td>\n",
       "      <td>218.611678</td>\n",
       "    </tr>\n",
       "    <tr>\n",
       "      <th>12</th>\n",
       "      <td>44.500</td>\n",
       "      <td>34.140148</td>\n",
       "    </tr>\n",
       "    <tr>\n",
       "      <th>13</th>\n",
       "      <td>0.140</td>\n",
       "      <td>26.500452</td>\n",
       "    </tr>\n",
       "    <tr>\n",
       "      <th>14</th>\n",
       "      <td>15.500</td>\n",
       "      <td>27.574078</td>\n",
       "    </tr>\n",
       "    <tr>\n",
       "      <th>15</th>\n",
       "      <td>58.000</td>\n",
       "      <td>35.959661</td>\n",
       "    </tr>\n",
       "    <tr>\n",
       "      <th>16</th>\n",
       "      <td>12.100</td>\n",
       "      <td>32.139813</td>\n",
       "    </tr>\n",
       "  </tbody>\n",
       "</table>\n",
       "</div>"
      ],
      "text/plain": [
       "       Real   Predicted\n",
       "0    11.400   30.150780\n",
       "1     6.600   28.749416\n",
       "2     5.000   26.941204\n",
       "3   408.625  296.830975\n",
       "4    98.200   60.008881\n",
       "5    17.500   29.676124\n",
       "6    12.500   29.653522\n",
       "7   175.000  151.933860\n",
       "8     3.000   26.764903\n",
       "9     2.600   28.523389\n",
       "10    5.500   28.839826\n",
       "11  325.000  218.611678\n",
       "12   44.500   34.140148\n",
       "13    0.140   26.500452\n",
       "14   15.500   27.574078\n",
       "15   58.000   35.959661\n",
       "16   12.100   32.139813"
      ]
     },
     "execution_count": 60,
     "metadata": {},
     "output_type": "execute_result"
    }
   ],
   "source": [
    "nw=pd.DataFrame({\"Real\":y_test,\"Predicted\":y_pred})\n",
    "nw"
   ]
  },
  {
   "cell_type": "code",
   "execution_count": 61,
   "id": "ff3c7d69",
   "metadata": {},
   "outputs": [
    {
     "data": {
      "text/html": [
       "<div>\n",
       "<style scoped>\n",
       "    .dataframe tbody tr th:only-of-type {\n",
       "        vertical-align: middle;\n",
       "    }\n",
       "\n",
       "    .dataframe tbody tr th {\n",
       "        vertical-align: top;\n",
       "    }\n",
       "\n",
       "    .dataframe thead th {\n",
       "        text-align: right;\n",
       "    }\n",
       "</style>\n",
       "<table border=\"1\" class=\"dataframe\">\n",
       "  <thead>\n",
       "    <tr style=\"text-align: right;\">\n",
       "      <th></th>\n",
       "      <th>Coefficients</th>\n",
       "    </tr>\n",
       "  </thead>\n",
       "  <tbody>\n",
       "    <tr>\n",
       "      <th>Brain</th>\n",
       "      <td>81.283766</td>\n",
       "    </tr>\n",
       "  </tbody>\n",
       "</table>\n",
       "</div>"
      ],
      "text/plain": [
       "       Coefficients\n",
       "Brain     81.283766"
      ]
     },
     "execution_count": 61,
     "metadata": {},
     "output_type": "execute_result"
    }
   ],
   "source": [
    "coef=pd.DataFrame(regressor.coef_,[\"Brain\"],[\"Coefficients\"])\n",
    "coef"
   ]
  },
  {
   "cell_type": "code",
   "execution_count": 62,
   "id": "ce69fc56",
   "metadata": {},
   "outputs": [
    {
     "name": "stdout",
     "output_type": "stream",
     "text": [
      "Intercept is 72.74435897435897\n"
     ]
    }
   ],
   "source": [
    "print(\"Intercept is\",regressor.intercept_)"
   ]
  },
  {
   "cell_type": "markdown",
   "id": "ff2db310",
   "metadata": {},
   "source": [
    "#### Linear Regression equation(y=mx+c) for this model"
   ]
  },
  {
   "cell_type": "markdown",
   "id": "5d0d3f63",
   "metadata": {},
   "source": [
    "Predicted Body=(88.987208*Brain)+(83.4446)"
   ]
  },
  {
   "cell_type": "markdown",
   "id": "e46ce892",
   "metadata": {},
   "source": [
    "### Matrics"
   ]
  },
  {
   "cell_type": "code",
   "execution_count": 63,
   "id": "f9dde483",
   "metadata": {},
   "outputs": [
    {
     "name": "stdout",
     "output_type": "stream",
     "text": [
      "R2- SCORE: 0.8669568677651629\n"
     ]
    }
   ],
   "source": [
    "from sklearn import metrics\n",
    "print('R2- SCORE:', metrics.r2_score(y_test,y_pred))"
   ]
  },
  {
   "cell_type": "code",
   "execution_count": 64,
   "id": "f40b1386",
   "metadata": {},
   "outputs": [
    {
     "data": {
      "image/png": "[encoded data removed]",
      "text/plain": [
       "<Figure size 640x480 with 1 Axes>"
      ]
     },
     "metadata": {},
     "output_type": "display_data"
    }
   ],
   "source": [
    "plt.scatter(X_train_scaled, y_train,color='g') \n",
    "plt.scatter(X_test_scaled, y_test,color='b')\n",
    "plt.plot(X_test_scaled, y_pred,color='k') \n",
    "plt.legend([\"Train\",\"Test\",\"Linear Regression line\"])\n",
    "plt.show()"
   ]
  },
  {
   "cell_type": "markdown",
   "id": "0a957548",
   "metadata": {},
   "source": [
    "Now we consider 'Body' as feature and 'Brain' as target"
   ]
  },
  {
   "cell_type": "markdown",
   "id": "bf14d523",
   "metadata": {},
   "source": [
    "### Train and Test split"
   ]
  },
  {
   "cell_type": "code",
   "execution_count": 65,
   "id": "1a50c788",
   "metadata": {},
   "outputs": [],
   "source": [
    "X = df[['Body']].values\n",
    "y = df['Brain'].values\n",
    "from sklearn.model_selection import train_test_split\n",
    "X_train, X_test, y_train, y_test = train_test_split(X, y, test_size=0.3)"
   ]
  },
  {
   "cell_type": "markdown",
   "id": "9990cc2c",
   "metadata": {},
   "source": [
    "### Scaling"
   ]
  },
  {
   "cell_type": "code",
   "execution_count": 66,
   "id": "981a88b0",
   "metadata": {},
   "outputs": [],
   "source": [
    "from sklearn.preprocessing import StandardScaler\n",
    "scaler = StandardScaler()\n",
    "scaler.fit(X_train) # we are finding the values of mean and sd from the td\n",
    "X_train_scaled = scaler.transform(X_train) # fit (mean, sd) and then transform the training data\n",
    "X_test_scaled = scaler.transform(X_test) # transform the test data "
   ]
  },
  {
   "cell_type": "code",
   "execution_count": 67,
   "id": "6a30d0d9",
   "metadata": {},
   "outputs": [
    {
     "data": {
      "text/plain": [
       "((39, 1), (17, 1))"
      ]
     },
     "execution_count": 67,
     "metadata": {},
     "output_type": "execute_result"
    }
   ],
   "source": [
    "X_train_scaled.shape,X_test_scaled.shape"
   ]
  },
  {
   "cell_type": "markdown",
   "id": "761b4820",
   "metadata": {},
   "source": [
    "### Modelling"
   ]
  },
  {
   "cell_type": "code",
   "execution_count": 68,
   "id": "be636848",
   "metadata": {},
   "outputs": [
    {
     "data": {
      "text/plain": [
       "LinearRegression()"
      ]
     },
     "execution_count": 68,
     "metadata": {},
     "output_type": "execute_result"
    }
   ],
   "source": [
    "from sklearn.linear_model import LinearRegression\n",
    "regressor = LinearRegression()\n",
    "regressor.fit(X_train_scaled, y_train)"
   ]
  },
  {
   "cell_type": "code",
   "execution_count": 69,
   "id": "0bdc93b6",
   "metadata": {},
   "outputs": [],
   "source": [
    "y_pred=regressor.predict(X_test_scaled)"
   ]
  },
  {
   "cell_type": "code",
   "execution_count": 70,
   "id": "e901238b",
   "metadata": {},
   "outputs": [
    {
     "data": {
      "text/html": [
       "<div>\n",
       "<style scoped>\n",
       "    .dataframe tbody tr th:only-of-type {\n",
       "        vertical-align: middle;\n",
       "    }\n",
       "\n",
       "    .dataframe tbody tr th {\n",
       "        vertical-align: top;\n",
       "    }\n",
       "\n",
       "    .dataframe thead th {\n",
       "        text-align: right;\n",
       "    }\n",
       "</style>\n",
       "<table border=\"1\" class=\"dataframe\">\n",
       "  <thead>\n",
       "    <tr style=\"text-align: right;\">\n",
       "      <th></th>\n",
       "      <th>Real</th>\n",
       "      <th>Predicted</th>\n",
       "    </tr>\n",
       "  </thead>\n",
       "  <tbody>\n",
       "    <tr>\n",
       "      <th>0</th>\n",
       "      <td>6.80000</td>\n",
       "      <td>44.528988</td>\n",
       "    </tr>\n",
       "    <tr>\n",
       "      <th>1</th>\n",
       "      <td>0.06000</td>\n",
       "      <td>3.371178</td>\n",
       "    </tr>\n",
       "    <tr>\n",
       "      <th>2</th>\n",
       "      <td>0.07500</td>\n",
       "      <td>3.417422</td>\n",
       "    </tr>\n",
       "    <tr>\n",
       "      <th>3</th>\n",
       "      <td>119.60625</td>\n",
       "      <td>97.016757</td>\n",
       "    </tr>\n",
       "    <tr>\n",
       "      <th>4</th>\n",
       "      <td>0.12200</td>\n",
       "      <td>3.833625</td>\n",
       "    </tr>\n",
       "    <tr>\n",
       "      <th>5</th>\n",
       "      <td>100.00000</td>\n",
       "      <td>39.442068</td>\n",
       "    </tr>\n",
       "    <tr>\n",
       "      <th>6</th>\n",
       "      <td>4.19000</td>\n",
       "      <td>16.550926</td>\n",
       "    </tr>\n",
       "    <tr>\n",
       "      <th>7</th>\n",
       "      <td>3.00000</td>\n",
       "      <td>8.920545</td>\n",
       "    </tr>\n",
       "    <tr>\n",
       "      <th>8</th>\n",
       "      <td>0.78500</td>\n",
       "      <td>3.949237</td>\n",
       "    </tr>\n",
       "    <tr>\n",
       "      <th>9</th>\n",
       "      <td>1.40000</td>\n",
       "      <td>6.030250</td>\n",
       "    </tr>\n",
       "    <tr>\n",
       "      <th>10</th>\n",
       "      <td>0.75000</td>\n",
       "      <td>5.984005</td>\n",
       "    </tr>\n",
       "    <tr>\n",
       "      <th>11</th>\n",
       "      <td>4.28800</td>\n",
       "      <td>12.203921</td>\n",
       "    </tr>\n",
       "    <tr>\n",
       "      <th>12</th>\n",
       "      <td>1.04000</td>\n",
       "      <td>4.411684</td>\n",
       "    </tr>\n",
       "    <tr>\n",
       "      <th>13</th>\n",
       "      <td>1.70000</td>\n",
       "      <td>4.596663</td>\n",
       "    </tr>\n",
       "    <tr>\n",
       "      <th>14</th>\n",
       "      <td>1.35000</td>\n",
       "      <td>5.012866</td>\n",
       "    </tr>\n",
       "    <tr>\n",
       "      <th>15</th>\n",
       "      <td>0.10400</td>\n",
       "      <td>3.718013</td>\n",
       "    </tr>\n",
       "    <tr>\n",
       "      <th>16</th>\n",
       "      <td>3.50000</td>\n",
       "      <td>4.041726</td>\n",
       "    </tr>\n",
       "  </tbody>\n",
       "</table>\n",
       "</div>"
      ],
      "text/plain": [
       "         Real  Predicted\n",
       "0     6.80000  44.528988\n",
       "1     0.06000   3.371178\n",
       "2     0.07500   3.417422\n",
       "3   119.60625  97.016757\n",
       "4     0.12200   3.833625\n",
       "5   100.00000  39.442068\n",
       "6     4.19000  16.550926\n",
       "7     3.00000   8.920545\n",
       "8     0.78500   3.949237\n",
       "9     1.40000   6.030250\n",
       "10    0.75000   5.984005\n",
       "11    4.28800  12.203921\n",
       "12    1.04000   4.411684\n",
       "13    1.70000   4.596663\n",
       "14    1.35000   5.012866\n",
       "15    0.10400   3.718013\n",
       "16    3.50000   4.041726"
      ]
     },
     "execution_count": 70,
     "metadata": {},
     "output_type": "execute_result"
    }
   ],
   "source": [
    "nw=pd.DataFrame({\"Real\":y_test,\"Predicted\":y_pred})\n",
    "nw"
   ]
  },
  {
   "cell_type": "code",
   "execution_count": 71,
   "id": "152d3a95",
   "metadata": {},
   "outputs": [
    {
     "data": {
      "text/html": [
       "<div>\n",
       "<style scoped>\n",
       "    .dataframe tbody tr th:only-of-type {\n",
       "        vertical-align: middle;\n",
       "    }\n",
       "\n",
       "    .dataframe tbody tr th {\n",
       "        vertical-align: top;\n",
       "    }\n",
       "\n",
       "    .dataframe thead th {\n",
       "        text-align: right;\n",
       "    }\n",
       "</style>\n",
       "<table border=\"1\" class=\"dataframe\">\n",
       "  <thead>\n",
       "    <tr style=\"text-align: right;\">\n",
       "      <th></th>\n",
       "      <th>Coefficients</th>\n",
       "    </tr>\n",
       "  </thead>\n",
       "  <tbody>\n",
       "    <tr>\n",
       "      <th>Body</th>\n",
       "      <td>27.431936</td>\n",
       "    </tr>\n",
       "  </tbody>\n",
       "</table>\n",
       "</div>"
      ],
      "text/plain": [
       "      Coefficients\n",
       "Body     27.431936"
      ]
     },
     "execution_count": 71,
     "metadata": {},
     "output_type": "execute_result"
    }
   ],
   "source": [
    "coef=pd.DataFrame(regressor.coef_,[\"Body\"],[\"Coefficients\"])\n",
    "coef"
   ]
  },
  {
   "cell_type": "code",
   "execution_count": 72,
   "id": "a4b939a9",
   "metadata": {},
   "outputs": [
    {
     "name": "stdout",
     "output_type": "stream",
     "text": [
      "Intercept is 21.603429487179486\n"
     ]
    }
   ],
   "source": [
    "print(\"Intercept is\",regressor.intercept_)"
   ]
  },
  {
   "cell_type": "markdown",
   "id": "1c3b6a47",
   "metadata": {},
   "source": [
    "#### Linear Regression equation(y=mx+c) for this model"
   ]
  },
  {
   "cell_type": "markdown",
   "id": "d50d7d5e",
   "metadata": {},
   "source": [
    "Predicted Brain=(28.429169*Body)+(20.72689102564103)"
   ]
  },
  {
   "cell_type": "markdown",
   "id": "b833d63f",
   "metadata": {},
   "source": [
    "### Matrics"
   ]
  },
  {
   "cell_type": "code",
   "execution_count": 73,
   "id": "7b4c3575",
   "metadata": {},
   "outputs": [
    {
     "name": "stdout",
     "output_type": "stream",
     "text": [
      "R2- SCORE: 0.7115739309843617\n"
     ]
    }
   ],
   "source": [
    "from sklearn import metrics\n",
    "print('R2- SCORE:', metrics.r2_score(y_test,y_pred))"
   ]
  },
  {
   "cell_type": "code",
   "execution_count": 74,
   "id": "6383b5cf",
   "metadata": {},
   "outputs": [
    {
     "data": {
      "image/png": "[encoded data removed]",
      "text/plain": [
       "<Figure size 640x480 with 1 Axes>"
      ]
     },
     "metadata": {},
     "output_type": "display_data"
    }
   ],
   "source": [
    "plt.scatter(X_train_scaled, y_train,color='g') \n",
    "plt.scatter(X_test_scaled, y_test,color='b')\n",
    "plt.plot(X_test_scaled, y_pred,color='k') \n",
    "plt.legend([\"Train\",\"Test\",\"Linear Regression line\"])\n",
    "plt.show()"
   ]
  },
  {
   "cell_type": "code",
   "execution_count": null,
   "id": "7e0fe0f4",
   "metadata": {},
   "outputs": [],
   "source": []
  }
 ],
 "metadata": {
  "kernelspec": {
   "display_name": "Python 3 (ipykernel)",
   "language": "python",
   "name": "python3"
  },
  "language_info": {
   "codemirror_mode": {
    "name": "ipython",
    "version": 3
   },
   "file_extension": ".py",
   "mimetype": "text/x-python",
   "name": "python",
   "nbconvert_exporter": "python",
   "pygments_lexer": "ipython3",
   "version": "3.9.13"
  }
 },
 "nbformat": 4,
 "nbformat_minor": 5
}
